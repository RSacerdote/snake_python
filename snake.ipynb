{
 "cells": [
  {
   "cell_type": "code",
   "execution_count": 1,
   "metadata": {},
   "outputs": [
    {
     "name": "stdout",
     "output_type": "stream",
     "text": [
      "pygame 2.5.2 (SDL 2.28.3, Python 3.10.11)\n",
      "Hello from the pygame community. https://www.pygame.org/contribute.html\n"
     ]
    }
   ],
   "source": [
    "import pygame\n",
    "import time\n",
    "import random\n",
    " \n",
    "pygame.init()\n",
    " \n",
    "WHITE = (255, 255, 255)\n",
    "GREY = (20,20,20)\n",
    "YELLOW = (255, 255, 102)\n",
    "BLACK = (0, 0, 0)\n",
    "RED = (213, 50, 80)\n",
    "GREEN = (0, 255, 0)\n",
    "BLUE = (50, 153, 213)\n",
    "\n",
    "BOX_SIZE = 20\n",
    "WIDTH = 60\n",
    "HEIGHT = 40\n",
    "\n",
    "DISPLAY_WIDTH = WIDTH * BOX_SIZE\n",
    "DISPLAY_HEIGHT = HEIGHT * BOX_SIZE\n",
    " \n",
    "dis = pygame.display.set_mode((DISPLAY_WIDTH, DISPLAY_HEIGHT))\n",
    "dis.fill(BLACK)\n",
    "\n",
    "clock = pygame.time.Clock()\n",
    "\n",
    "font_style = pygame.font.SysFont(\"arial\", 25)\n",
    "\n",
    "# 0: vazio\n",
    "# 1: comida\n",
    "# -1: parede/cobra\n",
    "def generate_empty_grid(width, height):\n",
    "    grid = []\n",
    "    for i in range(height):\n",
    "        row = []\n",
    "        for j in range(width):\n",
    "            row.append(0)\n",
    "        grid.append(row)\n",
    "    return grid\n",
    "\n",
    "def draw_grid(grid):\n",
    "    for i in range(len(grid)):\n",
    "        for j in range(len(grid[i])):\n",
    "            match grid[i][j]:\n",
    "                case 0:\n",
    "                    pygame.draw.rect(dis, GREY, [j*BOX_SIZE, i*BOX_SIZE, BOX_SIZE, BOX_SIZE], width=1)\n",
    "                case 1:\n",
    "                    pygame.draw.rect(dis, GREY, [j*BOX_SIZE, i*BOX_SIZE, BOX_SIZE, BOX_SIZE], width=1)\n",
    "                    pygame.draw.rect(dis, RED,  [j*BOX_SIZE, i*BOX_SIZE, BOX_SIZE, BOX_SIZE], border_radius=BOX_SIZE//2)\n",
    "                case -1: \n",
    "                    pygame.draw.rect(dis, GREEN, [foodx, foody, BOX_SIZE, BOX_SIZE])\n",
    "                case _:\n",
    "                    pygame.draw.rect(dis, GREEN, [foodx, foody, BOX_SIZE, BOX_SIZE])\n",
    "\n",
    "def generate_food(grid, snake):\n",
    "    pass\n",
    "\n",
    "main_grid = generate_empty_grid(WIDTH, HEIGHT)\n",
    "main_grid[HEIGHT//2][WIDTH//2] = 1\n",
    "game_over = False\n",
    "while game_over is False:\n",
    "    draw_grid(main_grid)\n",
    "    pygame.display.update()\n",
    "    clock.tick(24)\n",
    "    for event in pygame.event.get():\n",
    "        if event.type == pygame.KEYDOWN:\n",
    "            if event.key == pygame.K_q:\n",
    "                game_over = True\n",
    "pygame.quit()"
   ]
  }
 ],
 "metadata": {
  "kernelspec": {
   "display_name": "Python 3",
   "language": "python",
   "name": "python3"
  },
  "language_info": {
   "codemirror_mode": {
    "name": "ipython",
    "version": 3
   },
   "file_extension": ".py",
   "mimetype": "text/x-python",
   "name": "python",
   "nbconvert_exporter": "python",
   "pygments_lexer": "ipython3",
   "version": "3.10.11"
  }
 },
 "nbformat": 4,
 "nbformat_minor": 2
}
